{
 "cells": [
  {
   "cell_type": "code",
   "execution_count": 2,
   "id": "091ecb07",
   "metadata": {
    "execution": {
     "iopub.execute_input": "2023-12-10T17:51:06.821956Z",
     "iopub.status.busy": "2023-12-10T17:51:06.821230Z",
     "iopub.status.idle": "2023-12-10T17:51:10.065494Z",
     "shell.execute_reply": "2023-12-10T17:51:10.064704Z"
    },
    "id": "l-5Y-SjwDxl_",
    "papermill": {
     "duration": 3.289085,
     "end_time": "2023-12-10T17:51:10.067773",
     "exception": false,
     "start_time": "2023-12-10T17:51:06.778688",
     "status": "completed"
    },
    "tags": []
   },
   "outputs": [],
   "source": [
    "!pip install seaborn\n",
    "import torch\n",
    "import torchvision\n",
    "from torchvision import datasets\n",
    "from torchvision import transforms as T\n",
    "from torch import nn, optim\n",
    "from torch.nn import functional as F\n",
    "from torch.utils.data import DataLoader, sampler, random_split\n",
    "from torchvision import models\n",
    "import seaborn as sns\n",
    "import time\n",
    "import copy\n",
    "import torch\n",
    "from tqdm import tqdm\n",
    "import matplotlib.pyplot as plt\n",
    "import seaborn as sns\n",
    "device = torch.device('cuda' if torch.cuda.is_available() else 'cpu')\n",
    "import timm"
   ]
  },
  {
   "cell_type": "code",
   "execution_count": 7,
   "id": "0b0023f5",
   "metadata": {
    "execution": {
     "iopub.execute_input": "2023-12-10T17:51:11.275288Z",
     "iopub.status.busy": "2023-12-10T17:51:11.274577Z",
     "iopub.status.idle": "2023-12-10T17:51:11.289501Z",
     "shell.execute_reply": "2023-12-10T17:51:11.288803Z"
    },
    "id": "Sc7EwK9lDx5n",
    "papermill": {
     "duration": 0.058668,
     "end_time": "2023-12-10T17:51:11.291341",
     "exception": false,
     "start_time": "2023-12-10T17:51:11.232673",
     "status": "completed"
    },
    "tags": []
   },
   "outputs": [],
   "source": [
    "seed = 43\n",
    "np.random.seed(seed)\n",
    "torch.manual_seed(seed)\n",
    "torch.cuda.manual_seed_all(seed)\n",
    "def get_data_loaders(data_dir, batch_size):\n",
    "    transform = T.Compose([\n",
    "        T.Resize(256),\n",
    "        T.CenterCrop(224),\n",
    "        T.ToTensor(),\n",
    "        T.Normalize(mean=[0.485, 0.456, 0.406], std=[0.229, 0.224, 0.225])\n",
    "    ])\n",
    "    full_dataset = datasets.ImageFolder(os.path.join(data_dir, \"C:/Users/Sahilur Rahman/OneDrive/Desktop/Tumor_Cellularity/20X_ROIs/Train/\"), transform=transform)\n",
    "    dataset_size = len(full_dataset)\n",
    "    train_size = int(0.8 * dataset_size)\n",
    "    val_size = dataset_size - train_size\n",
    "    train_dataset, val_dataset = random_split(full_dataset, [train_size, val_size])\n",
    "    train_loader = DataLoader(train_dataset, batch_size=batch_size, shuffle=True, num_workers=4)\n",
    "    val_loader = DataLoader(val_dataset, batch_size=batch_size, shuffle=False, num_workers=4)\n",
    "    test_transform = T.Compose([\n",
    "        T.Resize(256),\n",
    "        T.CenterCrop(224),\n",
    "        T.ToTensor(),\n",
    "        T.Normalize((0.485, 0.456, 0.406), (0.229, 0.224, 0.225)),\n",
    "    ])\n",
    "\n",
    "    test_data = datasets.ImageFolder(os.path.join(data_dir, \"C:/Users/Sahilur Rahman/OneDrive/Desktop/Tumor_Cellularity/20X_ROIs/Test/\"), transform=test_transform)\n",
    "    test_loader = DataLoader(test_data, batch_size=batch_size, shuffle=False, num_workers=4)\n",
    "    return train_loader, val_loader, test_loader, len(train_dataset), len(val_dataset), len(test_data)"
   ]
  },
  {
   "cell_type": "code",
   "execution_count": 8,
   "id": "eb1951d4",
   "metadata": {
    "execution": {
     "iopub.execute_input": "2023-12-10T17:51:11.375565Z",
     "iopub.status.busy": "2023-12-10T17:51:11.374969Z",
     "iopub.status.idle": "2023-12-10T17:51:12.053201Z",
     "shell.execute_reply": "2023-12-10T17:51:12.052386Z"
    },
    "papermill": {
     "duration": 0.723268,
     "end_time": "2023-12-10T17:51:12.055539",
     "exception": false,
     "start_time": "2023-12-10T17:51:11.332271",
     "status": "completed"
    },
    "tags": []
   },
   "outputs": [],
   "source": [
    "data_dir = \"C:/Users/Sahilur Rahman/OneDrive/Desktop/Tumor_Cellularity/20X_ROIs/Train/\"\n",
    "batch_size = 32\n",
    "train_loader, val_loader, test_loader, train_size, val_size, test_size = get_data_loaders(data_dir, batch_size)\n",
    "classes = get_classes(\"C:/Users/Sahilur Rahman/OneDrive/Desktop/Tumor_Cellularity/20X_ROIs/Train/\")"
   ]
  },
  {
   "cell_type": "code",
   "execution_count": 14,
   "id": "7d7ed17a",
   "metadata": {
    "execution": {
     "iopub.execute_input": "2023-12-10T17:51:14.136048Z",
     "iopub.status.busy": "2023-12-10T17:51:14.135683Z",
     "iopub.status.idle": "2023-12-10T17:51:14.140241Z",
     "shell.execute_reply": "2023-12-10T17:51:14.139371Z"
    },
    "id": "lp6FX-SFEC_l",
    "papermill": {
     "duration": 0.049108,
     "end_time": "2023-12-10T17:51:14.142107",
     "exception": false,
     "start_time": "2023-12-10T17:51:14.092999",
     "status": "completed"
    },
    "tags": []
   },
   "outputs": [],
   "source": [
    "dataloaders = {\n",
    "    \"train\": train_loader,\n",
    "    \"val\": val_loader\n",
    "}\n",
    "\n",
    "dataset_sizes = {\n",
    "    \"train\": train_size,\n",
    "    \"val\": val_size\n",
    "}"
   ]
  },
  {
   "cell_type": "code",
   "execution_count": null,
   "id": "d571da50",
   "metadata": {
    "execution": {
     "iopub.execute_input": "2023-12-10T17:51:14.562339Z",
     "iopub.status.busy": "2023-12-10T17:51:14.561992Z",
     "iopub.status.idle": "2023-12-10T17:51:33.147090Z",
     "shell.execute_reply": "2023-12-10T17:51:33.146241Z"
    },
    "id": "AyKxMmI7EDK_",
    "outputId": "de73e539-c9e9-45b5-aa6b-85a97f24d666",
    "papermill": {
     "duration": 18.631465,
     "end_time": "2023-12-10T17:51:33.149659",
     "exception": false,
     "start_time": "2023-12-10T17:51:14.518194",
     "status": "completed"
    },
    "tags": []
   },
   "outputs": [],
   "source": [
    "model = torch.hub.load('facebookresearch/deit:main', 'deit_base_patch16_224', pretrained=True)"
   ]
  },
  {
   "cell_type": "code",
   "execution_count": null,
   "id": "355b12f9",
   "metadata": {
    "execution": {
     "iopub.execute_input": "2023-12-10T17:51:33.242943Z",
     "iopub.status.busy": "2023-12-10T17:51:33.242552Z",
     "iopub.status.idle": "2023-12-10T17:51:36.375216Z",
     "shell.execute_reply": "2023-12-10T17:51:36.373664Z"
    },
    "id": "YAj6idWAEDNt",
    "outputId": "2ed99929-c9d9-4128-d2bb-052495024451",
    "papermill": {
     "duration": 3.182142,
     "end_time": "2023-12-10T17:51:36.377639",
     "exception": false,
     "start_time": "2023-12-10T17:51:33.195497",
     "status": "completed"
    },
    "tags": []
   },
   "outputs": [],
   "source": [
    "for param in model.parameters():\n",
    "    param.requires_grad = False\n",
    "n_inputs = model.head.in_features\n",
    "model.head = nn.Sequential(\n",
    "    nn.Linear(n_inputs, 2048),\n",
    "    nn.BatchNorm1d(2048),\n",
    "    nn.ReLU(inplace=True),\n",
    "    nn.Dropout(0.5),\n",
    "    nn.Linear(2048, 1024),\n",
    "    nn.BatchNorm1d(1024),\n",
    "    nn.ReLU(inplace=True),\n",
    "    nn.Dropout(0.5),\n",
    "    nn.Linear(1024, 512),\n",
    "    nn.BatchNorm1d(512),\n",
    "    nn.ReLU(inplace=True),\n",
    "    nn.Dropout(0.5),\n",
    "    nn.Linear(512, len(classes))\n",
    ")\n",
    "model = model.to(device)"
   ]
  },
  {
   "cell_type": "code",
   "execution_count": 20,
   "id": "9c618eac",
   "metadata": {
    "execution": {
     "iopub.execute_input": "2023-12-10T17:51:36.470635Z",
     "iopub.status.busy": "2023-12-10T17:51:36.469810Z",
     "iopub.status.idle": "2023-12-10T17:51:36.475389Z",
     "shell.execute_reply": "2023-12-10T17:51:36.474547Z"
    },
    "id": "ue2LoxktESjG",
    "papermill": {
     "duration": 0.054018,
     "end_time": "2023-12-10T17:51:36.477184",
     "exception": false,
     "start_time": "2023-12-10T17:51:36.423166",
     "status": "completed"
    },
    "tags": []
   },
   "outputs": [],
   "source": [
    "criterion =  nn.CrossEntropyLoss()\n",
    "criterion = criterion.to(device)\n",
    "optimizer = optim.Adam(model.head.parameters(), lr=0.001)\n",
    "exp_lr_scheduler = optim.lr_scheduler.StepLR(optimizer, step_size=3, gamma=0.97)"
   ]
  },
  {
   "cell_type": "code",
   "execution_count": null,
   "id": "a02a89e9",
   "metadata": {
    "execution": {
     "iopub.execute_input": "2023-12-10T17:51:36.569960Z",
     "iopub.status.busy": "2023-12-10T17:51:36.569585Z",
     "iopub.status.idle": "2023-12-10T17:51:49.254847Z",
     "shell.execute_reply": "2023-12-10T17:51:49.253859Z"
    },
    "id": "a0xNyMJD7q5e",
    "papermill": {
     "duration": 12.734942,
     "end_time": "2023-12-10T17:51:49.257353",
     "exception": false,
     "start_time": "2023-12-10T17:51:36.522411",
     "status": "completed"
    },
    "tags": []
   },
   "outputs": [],
   "source": [
    "\n",
    "def train_model(model, criterion, optimizer, scheduler, num_epochs=200, patience=10):\n",
    "    since = time.time()\n",
    "    best_model_wts = copy.deepcopy(model.state_dict())\n",
    "    best_acc = 0.0\n",
    "    no_improvement_count = 0\n",
    "\n",
    "    val_true_labels = []\n",
    "    val_pred_labels = []\n",
    "    val_pred_probs = []\n",
    "    train_acc_history = []\n",
    "    val_acc_history = []\n",
    "    train_loss_history = []\n",
    "    val_loss_history = []\n",
    "\n",
    "    for epoch in range(num_epochs):\n",
    "        print(f'Epoch {epoch}/{num_epochs - 1}')\n",
    "        print(\"-\" * 10)\n",
    "\n",
    "        for phase in ['train', 'val']:\n",
    "            if phase == 'train':\n",
    "                model.train()\n",
    "            else:\n",
    "                model.eval()\n",
    "\n",
    "            running_loss = 0.0\n",
    "            running_corrects = 0.0\n",
    "\n",
    "            for inputs, labels in tqdm(dataloaders[phase]):\n",
    "                inputs = inputs.to(device)\n",
    "                labels = labels.to(device)\n",
    "\n",
    "                optimizer.zero_grad()\n",
    "\n",
    "                with torch.set_grad_enabled(phase == 'train'):\n",
    "                    outputs = model(inputs)\n",
    "                    _, preds = torch.max(outputs, 1)\n",
    "                    loss = criterion(outputs, labels)\n",
    "\n",
    "                    if phase == 'train':\n",
    "                        loss.backward()\n",
    "                        optimizer.step()\n",
    "                \n",
    "                running_loss += loss.item() * inputs.size(0)\n",
    "                running_corrects += torch.sum(preds == labels.data)\n",
    "\n",
    "                if phase == 'val':\n",
    "                    val_true_labels += labels.tolist()\n",
    "                    val_pred_labels += preds.tolist()\n",
    "                    val_pred_probs += torch.softmax(outputs, dim=1).tolist()\n",
    "\n",
    "            if phase == 'train':\n",
    "                train_loss_history.append(running_loss / dataset_sizes[phase])\n",
    "            else:\n",
    "                val_loss_history.append(running_loss / dataset_sizes[phase])\n",
    "\n",
    "            epoch_acc = running_corrects.double() / dataset_sizes[phase]\n",
    "\n",
    "            print(\"{} Loss: {:.4f} Acc: {:.4f}\".format(phase, running_loss / dataset_sizes[phase], epoch_acc))\n",
    "\n",
    "            if phase == 'val' and epoch_acc > best_acc:\n",
    "                best_acc = epoch_acc\n",
    "                best_model_wts = copy.deepcopy(model.state_dict())\n",
    "                no_improvement_count = 0\n",
    "            elif phase == 'val':\n",
    "                no_improvement_count += 1\n",
    "\n",
    "            if phase == 'train':\n",
    "                train_acc_history.append(epoch_acc.item())\n",
    "            else:\n",
    "                val_acc_history.append(epoch_acc.item())\n",
    "\n",
    "        print()\n",
    "\n",
    "        if no_improvement_count >= patience:\n",
    "            print(f\"No improvement in validation accuracy for {no_improvement_count} epochs. Early stopping...\")\n",
    "            break\n",
    "\n",
    "    time_elapsed = time.time() - since\n",
    "    print('Training complete in {:.0f}m {:.0f}s'.format(time_elapsed // 60, time_elapsed % 60))\n",
    "    print(\"Best Val Acc: {:.4f}\".format(best_acc))\n",
    "\n",
    "    model.load_state_dict(best_model_wts)"
   ]
  },
  {
   "cell_type": "code",
   "execution_count": null,
   "id": "af3d875f",
   "metadata": {},
   "outputs": [],
   "source": [
    "sns.set(style=\"darkgrid\")\n",
    "plt.figure(figsize=(10, 5))\n",
    "sns.lineplot(x=range(1, len(train_acc_history) + 1), y=train_acc_history, label='Train', linestyle='-', color='#2C5D63')\n",
    "sns.lineplot(x=range(1, len(val_acc_history) + 1), y=val_acc_history, label='Validation', linestyle='-', color='#6C5F5B')\n",
    "plt.xlabel('Epoch')\n",
    "plt.ylabel('Accuracy')\n",
    "plt.title('Training and Validation Accuracy')\n",
    "plt.legend()\n",
    "plt.show()\n",
    "\n",
    "plt.figure(figsize=(10, 5))\n",
    "sns.lineplot(x=range(1, len(train_loss_history) + 1), y=train_loss_history, label='Train', linestyle='-', color='#2C5D63')\n",
    "sns.lineplot(x=range(1, len(val_loss_history) + 1), y=val_loss_history, label='Validation', linestyle='-', color='#6C5F5B')\n",
    "plt.xlabel('Epoch')\n",
    "plt.ylabel('Loss')\n",
    "plt.title('Training and Validation Loss')\n",
    "plt.legend()\n",
    "plt.show()"
   ]
  },
  {
   "cell_type": "code",
   "execution_count": null,
   "id": "8fd35bb4",
   "metadata": {
    "execution": {
     "iopub.execute_input": "2023-12-10T17:51:49.349987Z",
     "iopub.status.busy": "2023-12-10T17:51:49.349594Z",
     "iopub.status.idle": "2023-12-10T19:33:03.157223Z",
     "shell.execute_reply": "2023-12-10T19:33:03.156082Z"
    },
    "id": "03x2gjMobJOm",
    "outputId": "cd0f0b93-8560-4c9a-ff25-9ea463eb0eba",
    "papermill": {
     "duration": 6073.856636,
     "end_time": "2023-12-10T19:33:03.159698",
     "exception": false,
     "start_time": "2023-12-10T17:51:49.303062",
     "status": "completed"
    },
    "tags": []
   },
   "outputs": [],
   "source": [
    "model_ft = train_model(model, criterion, optimizer, exp_lr_scheduler)"
   ]
  }
 ],
 "metadata": {
  "kaggle": {
   "accelerator": "gpu",
   "dataSources": [
    {
     "datasetId": 4118757,
     "sourceId": 7137402,
     "sourceType": "datasetVersion"
    }
   ],
   "dockerImageVersionId": 30588,
   "isGpuEnabled": true,
   "isInternetEnabled": true,
   "language": "python",
   "sourceType": "notebook"
  },
  "kernelspec": {
   "display_name": "Python 3",
   "language": "python",
   "name": "python3"
  },
  "language_info": {
   "codemirror_mode": {
    "name": "ipython",
    "version": 3
   },
   "file_extension": ".py",
   "mimetype": "text/x-python",
   "name": "python",
   "nbconvert_exporter": "python",
   "pygments_lexer": "ipython3",
   "version": "3.10.12"
  },
  "papermill": {
   "default_parameters": {},
   "duration": 6486.375227,
   "end_time": "2023-12-10T19:39:08.994201",
   "environment_variables": {},
   "exception": null,
   "input_path": "__notebook__.ipynb",
   "output_path": "__notebook__.ipynb",
   "parameters": {},
   "start_time": "2023-12-10T17:51:02.618974",
   "version": "2.4.0"
  }
 },
 "nbformat": 4,
 "nbformat_minor": 5
}
